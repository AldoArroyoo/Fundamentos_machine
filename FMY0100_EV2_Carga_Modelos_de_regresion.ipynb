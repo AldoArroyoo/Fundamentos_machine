{
  "nbformat": 4,
  "nbformat_minor": 0,
  "metadata": {
    "colab": {
      "provenance": []
    },
    "kernelspec": {
      "name": "python3",
      "display_name": "Python 3"
    },
    "language_info": {
      "name": "python"
    }
  },
  "cells": [
    {
      "cell_type": "markdown",
      "source": [
        "# Carga Modelos de regresión\n",
        "\n",
        "**Autor/es:**\n",
        "+ Benjamín Sepulveda\n",
        "+ Aldo Arroyo\n",
        "\n",
        "**Correos Electrónicos:**\n",
        "+ be.sepulvedat@duocuc.cl\n",
        "+ ald.arroyo@duocuc.cl\n",
        "\n",
        "**Fecha de Creación:** 15 de Octubre de 2024  \n",
        "**Versión:** 1.0\n",
        "\n",
        "---\n",
        "\n",
        "## Descripción\n",
        "\n",
        "Este notebook contiene el uso de modelos de regresión cargados para la evaluación de modelos de regresión de la asignatura de Fundamentos de Machine Learning de la carrera de Ingeniería en informática de DuocUC - Sede Concepción\n"
      ],
      "metadata": {
        "id": "ges6kPUBUVcq"
      }
    },
    {
      "cell_type": "markdown",
      "source": [
        "# Uso de modelos\n",
        "\n",
        "Acá debe cargar desde el archivo pickle cada variante y cargar el JSON con las entradas, generando así el JSON con las predicciones"
      ],
      "metadata": {
        "id": "8g-efcJsX3Ld"
      }
    },
    {
      "cell_type": "code",
      "source": [
        "#Debido a que estabamos trabajando en deepnote la ultima versión disponible de scikit-learn de esta en una version inferior a la que tiene colab, por lo que se agrego\n",
        "#esta linea de codigo para evitar el problema de versionamiento\n",
        "!pip install scikit-learn==1.1.2"
      ],
      "metadata": {
        "id": "EjPi0mkLq53X",
        "colab": {
          "base_uri": "https://localhost:8080/"
        },
        "outputId": "410b3faa-71c1-4272-a635-7e1b9470c150"
      },
      "execution_count": null,
      "outputs": [
        {
          "output_type": "stream",
          "name": "stdout",
          "text": [
            "Collecting scikit-learn==1.1.2\n",
            "  Downloading scikit_learn-1.1.2-cp310-cp310-manylinux_2_17_x86_64.manylinux2014_x86_64.whl.metadata (10 kB)\n",
            "Requirement already satisfied: numpy>=1.17.3 in /usr/local/lib/python3.10/dist-packages (from scikit-learn==1.1.2) (1.26.4)\n",
            "Requirement already satisfied: scipy>=1.3.2 in /usr/local/lib/python3.10/dist-packages (from scikit-learn==1.1.2) (1.13.1)\n",
            "Requirement already satisfied: joblib>=1.0.0 in /usr/local/lib/python3.10/dist-packages (from scikit-learn==1.1.2) (1.4.2)\n",
            "Requirement already satisfied: threadpoolctl>=2.0.0 in /usr/local/lib/python3.10/dist-packages (from scikit-learn==1.1.2) (3.5.0)\n",
            "Downloading scikit_learn-1.1.2-cp310-cp310-manylinux_2_17_x86_64.manylinux2014_x86_64.whl (30.5 MB)\n",
            "\u001b[2K   \u001b[90m━━━━━━━━━━━━━━━━━━━━━━━━━━━━━━━━━━━━━━━━\u001b[0m \u001b[32m30.5/30.5 MB\u001b[0m \u001b[31m44.0 MB/s\u001b[0m eta \u001b[36m0:00:00\u001b[0m\n",
            "\u001b[?25hInstalling collected packages: scikit-learn\n",
            "  Attempting uninstall: scikit-learn\n",
            "    Found existing installation: scikit-learn 1.5.2\n",
            "    Uninstalling scikit-learn-1.5.2:\n",
            "      Successfully uninstalled scikit-learn-1.5.2\n",
            "\u001b[31mERROR: pip's dependency resolver does not currently take into account all the packages that are installed. This behaviour is the source of the following dependency conflicts.\n",
            "bigframes 1.22.0 requires scikit-learn>=1.2.2, but you have scikit-learn 1.1.2 which is incompatible.\u001b[0m\u001b[31m\n",
            "\u001b[0mSuccessfully installed scikit-learn-1.1.2\n"
          ]
        }
      ]
    },
    {
      "cell_type": "code",
      "source": [
        "import json\n",
        "import pickle\n",
        "import pandas as pd\n"
      ],
      "metadata": {
        "id": "sA0ginIm1gSZ"
      },
      "execution_count": null,
      "outputs": []
    },
    {
      "cell_type": "markdown",
      "source": [
        "## Variante 1 - Uso sólo de variables cuantitativas"
      ],
      "metadata": {
        "id": "TiKMvsliX7f_"
      }
    },
    {
      "cell_type": "code",
      "source": [
        "with open('model_alt_1.pkl', 'rb') as f:\n",
        "    model_alt_1 = pickle.load(f)"
      ],
      "metadata": {
        "id": "-7VzL4lAX_GW"
      },
      "execution_count": null,
      "outputs": []
    },
    {
      "cell_type": "code",
      "source": [
        "url = 'model_alt_1.JSON'\n",
        "data = []\n",
        "with open(url, 'r') as f:\n",
        "    data = json.load(f)\n",
        "\n",
        "predicciones = []\n",
        "\n",
        "for entry in data:\n",
        "    X_new_1 = pd.DataFrame([entry], columns=['PrimaryAssaultRifle','RLethalGrenadesThrown'])\n",
        "\n",
        "    # Realizar la predicción con el modelo de la alternativa 1\n",
        "    pred_1 = model_alt_1.predict(X_new_1)[0]\n",
        "\n",
        "    predicciones.append({\n",
        "        'inputs': entry,\n",
        "        'prediction': pred_1\n",
        "    })\n",
        "\n",
        "# Guardar el resultado en un archivo JSON\n",
        "json_con_predicciones = 'predictions_alt_1.json'\n",
        "with open(json_con_predicciones, 'w') as f:\n",
        "    json.dump(predicciones, f, indent=4)\n",
        "\n",
        "print(f\"Predicciones guardadas exitosamente en {json_con_predicciones}\")"
      ],
      "metadata": {
        "colab": {
          "base_uri": "https://localhost:8080/"
        },
        "id": "HE2zssCC1lD4",
        "outputId": "e706b329-e21f-4dc9-d80f-5908b730f7b4"
      },
      "execution_count": null,
      "outputs": [
        {
          "output_type": "stream",
          "name": "stdout",
          "text": [
            "Predicciones guardadas exitosamente en predictions_alt_1.json\n"
          ]
        }
      ]
    },
    {
      "cell_type": "markdown",
      "source": [
        "## Variante 2 - Uso de variables cuantitativas y categórica"
      ],
      "metadata": {
        "id": "GVy064hVX9tM"
      }
    },
    {
      "cell_type": "code",
      "source": [
        "with open('model_alt_2.pkl', 'rb') as f:\n",
        "    model_alt_2 = pickle.load(f)"
      ],
      "metadata": {
        "id": "aCY3cMyXX_8e"
      },
      "execution_count": null,
      "outputs": []
    },
    {
      "cell_type": "code",
      "source": [
        "url = 'model_alt_2.JSON'\n",
        "data = []\n",
        "with open(url, 'r') as f:\n",
        "    data = json.load(f)\n",
        "\n",
        "predicciones = []\n",
        "\n",
        "for entry in data:\n",
        "    X_new_2 = pd.DataFrame([entry], columns=['PrimaryAssaultRifle','RLethalGrenadesThrown', 'RoundWinner'])\n",
        "\n",
        "    pred_2 = model_alt_2.predict(X_new_2)[0]\n",
        "\n",
        "    predicciones.append({\n",
        "        'inputs': entry,\n",
        "        'prediction': pred_2\n",
        "    })\n",
        "\n",
        "json_con_predicciones2 = 'predictions_alt_2.json'\n",
        "with open(json_con_predicciones2, 'w') as f:\n",
        "    json.dump(predicciones, f, indent=4)\n",
        "\n",
        "print(f\"Predicciones guardadas exitosamente en {json_con_predicciones2}\")"
      ],
      "metadata": {
        "colab": {
          "base_uri": "https://localhost:8080/"
        },
        "id": "HGnM-ono2xhE",
        "outputId": "21d82e85-a442-4f29-ec40-bd87e4049dfe"
      },
      "execution_count": null,
      "outputs": [
        {
          "output_type": "stream",
          "name": "stdout",
          "text": [
            "Predicciones guardadas exitosamente en predictions_alt_2.json\n"
          ]
        }
      ]
    }
  ]
}